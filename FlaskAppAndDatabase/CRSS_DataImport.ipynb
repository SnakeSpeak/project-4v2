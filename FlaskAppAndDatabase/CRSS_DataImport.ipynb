{
 "cells": [
  {
   "cell_type": "code",
   "execution_count": 55,
   "metadata": {},
   "outputs": [],
   "source": [
    "import pandas as pd\n",
    "import sqlalchemy\n",
    "from pathlib import Path\n",
    "from sqlalchemy.ext.automap import automap_base\n",
    "from sqlalchemy.orm import Session\n",
    "from sqlalchemy import create_engine"
   ]
  },
  {
   "cell_type": "code",
   "execution_count": 56,
   "metadata": {},
   "outputs": [
    {
     "name": "stderr",
     "output_type": "stream",
     "text": [
      "C:\\Users\\mirai\\AppData\\Local\\Temp\\ipykernel_3936\\2647440939.py:4: DtypeWarning: Columns (55,57,69,73) have mixed types. Specify dtype option on import or set low_memory=False.\n",
      "  df = pd.read_csv(Path(f\"../Resources/CRSS_data/{type}/{type}_{year}.csv\"))\n"
     ]
    }
   ],
   "source": [
    "year = 2021\n",
    "\n",
    "def file_reader_function(type, year):\n",
    "    df = pd.read_csv(Path(f\"../Resources/CRSS_data/{type}/{type}_{year}.csv\"))\n",
    "    return df\n",
    "\n",
    "accident_df = file_reader_function(\"accident\", year)\n",
    "person_df = file_reader_function(\"person\", year)\n",
    "vehicle_df = file_reader_function(\"vehicle\", year)"
   ]
  },
  {
   "cell_type": "code",
   "execution_count": 57,
   "metadata": {},
   "outputs": [],
   "source": [
    "accident_df = accident_df[[\"CASENUM\", \"MAN_COLL\", \"WEATHER\", \"MONTH\", \"HOUR\", \"DAY_WEEK\", \"ALCOHOL\"]]\n",
    "person_df = person_df[[\"CASENUM\", \"VEH_NO\", \"PER_NO\", \"AGE\", \"SEX\", \"DRUGS\"]]\n",
    "vehicle_df = vehicle_df[[\"CASENUM\", \"VEH_NO\", \"BODY_TYP\", \"SPEEDREL\" ]]\n",
    "\n",
    "# Join Vehicle and Person DataFrames to create \"veh_and_per_df\", left join to Vehicle DF. (Written by Ed)\n",
    "veh_and_per_df = pd.merge(vehicle_df, person_df, on=['CASENUM','VEH_NO'], how='left')\n",
    "\n",
    "# Join veh_and_per_df and accident df to create \"allinfo_df\", left join to veh_and_per_df. (Written by Ed)\n",
    "data_df = pd.merge(veh_and_per_df,accident_df, on=['CASENUM'], how='left')"
   ]
  },
  {
   "cell_type": "code",
   "execution_count": 58,
   "metadata": {},
   "outputs": [],
   "source": [
    "data_df = data_df[(data_df[\"PER_NO\"] == 1)]\n",
    "data_df = data_df.dropna(how=\"any\")\n",
    "data_df = data_df.drop(columns=[\"CASENUM\", \"VEH_NO\", \"PER_NO\"])"
   ]
  },
  {
   "cell_type": "code",
   "execution_count": 59,
   "metadata": {},
   "outputs": [
    {
     "data": {
      "text/html": [
       "<div>\n",
       "<style scoped>\n",
       "    .dataframe tbody tr th:only-of-type {\n",
       "        vertical-align: middle;\n",
       "    }\n",
       "\n",
       "    .dataframe tbody tr th {\n",
       "        vertical-align: top;\n",
       "    }\n",
       "\n",
       "    .dataframe thead th {\n",
       "        text-align: right;\n",
       "    }\n",
       "</style>\n",
       "<table border=\"1\" class=\"dataframe\">\n",
       "  <thead>\n",
       "    <tr style=\"text-align: right;\">\n",
       "      <th></th>\n",
       "      <th>BODY_TYP</th>\n",
       "      <th>SPEEDREL</th>\n",
       "      <th>AGE</th>\n",
       "      <th>SEX</th>\n",
       "      <th>DRUGS</th>\n",
       "      <th>MAN_COLL</th>\n",
       "      <th>WEATHER</th>\n",
       "      <th>MONTH</th>\n",
       "      <th>HOUR</th>\n",
       "      <th>DAY_WEEK</th>\n",
       "      <th>ALCOHOL</th>\n",
       "    </tr>\n",
       "  </thead>\n",
       "  <tbody>\n",
       "    <tr>\n",
       "      <th>0</th>\n",
       "      <td>4</td>\n",
       "      <td>0</td>\n",
       "      <td>31.0</td>\n",
       "      <td>1.0</td>\n",
       "      <td>0.0</td>\n",
       "      <td>0</td>\n",
       "      <td>1</td>\n",
       "      <td>1</td>\n",
       "      <td>5</td>\n",
       "      <td>6</td>\n",
       "      <td>2</td>\n",
       "    </tr>\n",
       "    <tr>\n",
       "      <th>1</th>\n",
       "      <td>14</td>\n",
       "      <td>0</td>\n",
       "      <td>54.0</td>\n",
       "      <td>1.0</td>\n",
       "      <td>0.0</td>\n",
       "      <td>0</td>\n",
       "      <td>10</td>\n",
       "      <td>1</td>\n",
       "      <td>18</td>\n",
       "      <td>6</td>\n",
       "      <td>2</td>\n",
       "    </tr>\n",
       "    <tr>\n",
       "      <th>2</th>\n",
       "      <td>4</td>\n",
       "      <td>0</td>\n",
       "      <td>54.0</td>\n",
       "      <td>2.0</td>\n",
       "      <td>0.0</td>\n",
       "      <td>0</td>\n",
       "      <td>5</td>\n",
       "      <td>1</td>\n",
       "      <td>7</td>\n",
       "      <td>7</td>\n",
       "      <td>2</td>\n",
       "    </tr>\n",
       "    <tr>\n",
       "      <th>3</th>\n",
       "      <td>14</td>\n",
       "      <td>0</td>\n",
       "      <td>998.0</td>\n",
       "      <td>8.0</td>\n",
       "      <td>8.0</td>\n",
       "      <td>0</td>\n",
       "      <td>2</td>\n",
       "      <td>1</td>\n",
       "      <td>16</td>\n",
       "      <td>6</td>\n",
       "      <td>9</td>\n",
       "    </tr>\n",
       "    <tr>\n",
       "      <th>4</th>\n",
       "      <td>4</td>\n",
       "      <td>0</td>\n",
       "      <td>55.0</td>\n",
       "      <td>2.0</td>\n",
       "      <td>8.0</td>\n",
       "      <td>0</td>\n",
       "      <td>2</td>\n",
       "      <td>1</td>\n",
       "      <td>16</td>\n",
       "      <td>6</td>\n",
       "      <td>9</td>\n",
       "    </tr>\n",
       "  </tbody>\n",
       "</table>\n",
       "</div>"
      ],
      "text/plain": [
       "   BODY_TYP  SPEEDREL    AGE  SEX  DRUGS  MAN_COLL  WEATHER  MONTH  HOUR  \\\n",
       "0         4         0   31.0  1.0    0.0         0        1      1     5   \n",
       "1        14         0   54.0  1.0    0.0         0       10      1    18   \n",
       "2         4         0   54.0  2.0    0.0         0        5      1     7   \n",
       "3        14         0  998.0  8.0    8.0         0        2      1    16   \n",
       "4         4         0   55.0  2.0    8.0         0        2      1    16   \n",
       "\n",
       "   DAY_WEEK  ALCOHOL  \n",
       "0         6        2  \n",
       "1         6        2  \n",
       "2         7        2  \n",
       "3         6        9  \n",
       "4         6        9  "
      ]
     },
     "execution_count": 59,
     "metadata": {},
     "output_type": "execute_result"
    }
   ],
   "source": [
    "data_df.head()"
   ]
  },
  {
   "cell_type": "code",
   "execution_count": 60,
   "metadata": {},
   "outputs": [],
   "source": [
    "def drop_index_function(column_list, value_list):\n",
    "    for columns in column_list:\n",
    "        for values in value_list:\n",
    "            drop_index = data_df[(data_df[columns] == values)].index\n",
    "            data_df.drop(drop_index, inplace=True)\n",
    "\n",
    "first_list = ['SEX', 'DAY_WEEK']\n",
    "first_values = [8, 9]\n",
    "\n",
    "drop_index_function(first_list, first_values)\n",
    "\n",
    "second_list = ['MAN_COLL', 'WEATHER', 'HOUR']\n",
    "second_values = [98, 99]\n",
    "\n",
    "drop_index_function(second_list, second_values)\n",
    "\n",
    "third_list = ['AGE']\n",
    "third_values = [998, 999]\n",
    "\n",
    "drop_index_function(third_list, third_values)\n",
    "\n",
    "fourth_list = ['BODY_TYP']\n",
    "fourth_values = [9, 19, 29, 39, 48, 49, 59, 71, 73, 89, 98, 99]\n",
    "\n",
    "drop_index_function(fourth_list, fourth_values)"
   ]
  },
  {
   "cell_type": "code",
   "execution_count": 61,
   "metadata": {},
   "outputs": [
    {
     "data": {
      "text/plain": [
       "array([ 1, 10,  8,  2,  4], dtype=int64)"
      ]
     },
     "execution_count": 61,
     "metadata": {},
     "output_type": "execute_result"
    }
   ],
   "source": [
    "def replace_function(original, new):\n",
    "    for row in original:\n",
    "        data_df.loc[data_df[\"WEATHER\"] == row] = new\n",
    "\n",
    "\n",
    "weather_1 = [[3, 5, 6, 7], 8]\n",
    "weather_2 = [[11], 4]\n",
    "weather_3 = [[12], 2]\n",
    "\n",
    "replace_function(weather_1[0], weather_1[1])\n",
    "replace_function(weather_2[0], weather_2[1])\n",
    "replace_function(weather_3[0], weather_3[1])\n",
    "\n",
    "data_df[\"WEATHER\"].unique()"
   ]
  },
  {
   "cell_type": "code",
   "execution_count": 62,
   "metadata": {},
   "outputs": [],
   "source": [
    "data_df = data_df.reset_index(drop=True)\n",
    "data_df[\"KEY\"] = str(year) + data_df.index.astype(str)\n",
    "column_reorder = data_df.columns.tolist()\n",
    "column_reorder = column_reorder[-1:] + column_reorder[:-1]\n",
    "data_df = data_df[column_reorder]"
   ]
  },
  {
   "cell_type": "code",
   "execution_count": 63,
   "metadata": {},
   "outputs": [],
   "source": [
    "data_df[\"AGE\"] = data_df[\"AGE\"].astype(int)\n",
    "data_df[\"SEX\"] = data_df[\"SEX\"].astype(int)\n",
    "data_df[\"DRUGS\"] = data_df[\"DRUGS\"].astype(int)"
   ]
  },
  {
   "cell_type": "code",
   "execution_count": 64,
   "metadata": {},
   "outputs": [
    {
     "data": {
      "text/html": [
       "<div>\n",
       "<style scoped>\n",
       "    .dataframe tbody tr th:only-of-type {\n",
       "        vertical-align: middle;\n",
       "    }\n",
       "\n",
       "    .dataframe tbody tr th {\n",
       "        vertical-align: top;\n",
       "    }\n",
       "\n",
       "    .dataframe thead th {\n",
       "        text-align: right;\n",
       "    }\n",
       "</style>\n",
       "<table border=\"1\" class=\"dataframe\">\n",
       "  <thead>\n",
       "    <tr style=\"text-align: right;\">\n",
       "      <th></th>\n",
       "      <th>KEY</th>\n",
       "      <th>BODY_TYP</th>\n",
       "      <th>SPEEDREL</th>\n",
       "      <th>AGE</th>\n",
       "      <th>SEX</th>\n",
       "      <th>DRUGS</th>\n",
       "      <th>MAN_COLL</th>\n",
       "      <th>WEATHER</th>\n",
       "      <th>MONTH</th>\n",
       "      <th>HOUR</th>\n",
       "      <th>DAY_WEEK</th>\n",
       "      <th>ALCOHOL</th>\n",
       "    </tr>\n",
       "  </thead>\n",
       "  <tbody>\n",
       "    <tr>\n",
       "      <th>0</th>\n",
       "      <td>20210</td>\n",
       "      <td>4</td>\n",
       "      <td>0</td>\n",
       "      <td>31</td>\n",
       "      <td>1</td>\n",
       "      <td>0</td>\n",
       "      <td>0</td>\n",
       "      <td>1</td>\n",
       "      <td>1</td>\n",
       "      <td>5</td>\n",
       "      <td>6</td>\n",
       "      <td>2</td>\n",
       "    </tr>\n",
       "    <tr>\n",
       "      <th>1</th>\n",
       "      <td>20211</td>\n",
       "      <td>14</td>\n",
       "      <td>0</td>\n",
       "      <td>54</td>\n",
       "      <td>1</td>\n",
       "      <td>0</td>\n",
       "      <td>0</td>\n",
       "      <td>10</td>\n",
       "      <td>1</td>\n",
       "      <td>18</td>\n",
       "      <td>6</td>\n",
       "      <td>2</td>\n",
       "    </tr>\n",
       "    <tr>\n",
       "      <th>2</th>\n",
       "      <td>20212</td>\n",
       "      <td>8</td>\n",
       "      <td>8</td>\n",
       "      <td>8</td>\n",
       "      <td>8</td>\n",
       "      <td>8</td>\n",
       "      <td>8</td>\n",
       "      <td>8</td>\n",
       "      <td>8</td>\n",
       "      <td>8</td>\n",
       "      <td>8</td>\n",
       "      <td>8</td>\n",
       "    </tr>\n",
       "    <tr>\n",
       "      <th>3</th>\n",
       "      <td>20213</td>\n",
       "      <td>4</td>\n",
       "      <td>0</td>\n",
       "      <td>55</td>\n",
       "      <td>2</td>\n",
       "      <td>8</td>\n",
       "      <td>0</td>\n",
       "      <td>2</td>\n",
       "      <td>1</td>\n",
       "      <td>16</td>\n",
       "      <td>6</td>\n",
       "      <td>9</td>\n",
       "    </tr>\n",
       "    <tr>\n",
       "      <th>4</th>\n",
       "      <td>20214</td>\n",
       "      <td>14</td>\n",
       "      <td>0</td>\n",
       "      <td>59</td>\n",
       "      <td>2</td>\n",
       "      <td>8</td>\n",
       "      <td>0</td>\n",
       "      <td>2</td>\n",
       "      <td>1</td>\n",
       "      <td>16</td>\n",
       "      <td>6</td>\n",
       "      <td>9</td>\n",
       "    </tr>\n",
       "  </tbody>\n",
       "</table>\n",
       "</div>"
      ],
      "text/plain": [
       "     KEY  BODY_TYP  SPEEDREL  AGE  SEX  DRUGS  MAN_COLL  WEATHER  MONTH  HOUR  \\\n",
       "0  20210         4         0   31    1      0         0        1      1     5   \n",
       "1  20211        14         0   54    1      0         0       10      1    18   \n",
       "2  20212         8         8    8    8      8         8        8      8     8   \n",
       "3  20213         4         0   55    2      8         0        2      1    16   \n",
       "4  20214        14         0   59    2      8         0        2      1    16   \n",
       "\n",
       "   DAY_WEEK  ALCOHOL  \n",
       "0         6        2  \n",
       "1         6        2  \n",
       "2         8        8  \n",
       "3         6        9  \n",
       "4         6        9  "
      ]
     },
     "execution_count": 64,
     "metadata": {},
     "output_type": "execute_result"
    }
   ],
   "source": [
    "data_df.head()"
   ]
  },
  {
   "cell_type": "code",
   "execution_count": 65,
   "metadata": {},
   "outputs": [
    {
     "data": {
      "text/plain": [
       "Index(['KEY', 'BODY_TYP', 'SPEEDREL', 'AGE', 'SEX', 'DRUGS', 'MAN_COLL',\n",
       "       'WEATHER', 'MONTH', 'HOUR', 'DAY_WEEK', 'ALCOHOL'],\n",
       "      dtype='object')"
      ]
     },
     "execution_count": 65,
     "metadata": {},
     "output_type": "execute_result"
    }
   ],
   "source": [
    "data_df.columns"
   ]
  },
  {
   "cell_type": "code",
   "execution_count": 66,
   "metadata": {},
   "outputs": [],
   "source": [
    "# Creating SQL Alchemy Engine and connection to engine\n",
    "database_path = (\"FlaskApp/Accidents_Database.db\")\n",
    "engine = create_engine(f\"sqlite:///{database_path}\")\n",
    "conn = engine.connect()"
   ]
  },
  {
   "cell_type": "code",
   "execution_count": 423,
   "metadata": {},
   "outputs": [
    {
     "data": {
      "text/plain": [
       "80687"
      ]
     },
     "execution_count": 423,
     "metadata": {},
     "output_type": "execute_result"
    }
   ],
   "source": [
    "data_df.to_sql(\"accidents_data\", conn, schema=None, if_exists='append', index=False, index_label=None, chunksize=None, dtype=None, method=None)"
   ]
  }
 ],
 "metadata": {
  "kernelspec": {
   "display_name": "base",
   "language": "python",
   "name": "python3"
  },
  "language_info": {
   "codemirror_mode": {
    "name": "ipython",
    "version": 3
   },
   "file_extension": ".py",
   "mimetype": "text/x-python",
   "name": "python",
   "nbconvert_exporter": "python",
   "pygments_lexer": "ipython3",
   "version": "3.10.9"
  },
  "orig_nbformat": 4
 },
 "nbformat": 4,
 "nbformat_minor": 2
}
